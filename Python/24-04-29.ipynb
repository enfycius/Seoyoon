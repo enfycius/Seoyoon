{
 "cells": [
  {
   "cell_type": "code",
   "execution_count": 1,
   "id": "initial_id",
   "metadata": {
    "collapsed": true,
    "ExecuteTime": {
     "end_time": "2024-04-29T10:13:11.625939Z",
     "start_time": "2024-04-29T10:12:58.261901Z"
    }
   },
   "outputs": [],
   "source": [
    "a = input()"
   ]
  },
  {
   "cell_type": "code",
   "outputs": [
    {
     "data": {
      "text/plain": "'23.2 39.6 66.4 50.0 45.6 48.0'"
     },
     "execution_count": 2,
     "metadata": {},
     "output_type": "execute_result"
    }
   ],
   "source": [
    "a"
   ],
   "metadata": {
    "collapsed": false,
    "ExecuteTime": {
     "end_time": "2024-04-29T10:13:14.332243Z",
     "start_time": "2024-04-29T10:13:14.327Z"
    }
   },
   "id": "856cb9cce6f4dbd3",
   "execution_count": 2
  },
  {
   "cell_type": "code",
   "outputs": [
    {
     "data": {
      "text/plain": "['23.2', '39.6', '66.4', '50.0', '45.6', '48.0']"
     },
     "execution_count": 3,
     "metadata": {},
     "output_type": "execute_result"
    }
   ],
   "source": [
    "a.split()"
   ],
   "metadata": {
    "collapsed": false,
    "ExecuteTime": {
     "end_time": "2024-04-29T10:13:34.539924Z",
     "start_time": "2024-04-29T10:13:34.534757Z"
    }
   },
   "id": "7a47e6c1baca60c",
   "execution_count": 3
  },
  {
   "cell_type": "code",
   "outputs": [],
   "source": [
    "sum = 0"
   ],
   "metadata": {
    "collapsed": false,
    "ExecuteTime": {
     "end_time": "2024-04-29T10:15:45.644790Z",
     "start_time": "2024-04-29T10:15:45.641989Z"
    }
   },
   "id": "46efbac5ada48441",
   "execution_count": 5
  },
  {
   "cell_type": "code",
   "outputs": [],
   "source": [
    "for i in a.split():\n",
    "    sum = sum + float(i)"
   ],
   "metadata": {
    "collapsed": false,
    "ExecuteTime": {
     "end_time": "2024-04-29T10:15:50.205984Z",
     "start_time": "2024-04-29T10:15:50.203136Z"
    }
   },
   "id": "1064a35f40fd0747",
   "execution_count": 6
  },
  {
   "cell_type": "code",
   "outputs": [
    {
     "name": "stdout",
     "output_type": "stream",
     "text": [
      "272.79999999999995\n"
     ]
    }
   ],
   "source": [
    "print(sum)"
   ],
   "metadata": {
    "collapsed": false,
    "ExecuteTime": {
     "end_time": "2024-04-29T10:15:55.192318Z",
     "start_time": "2024-04-29T10:15:55.189756Z"
    }
   },
   "id": "953b815752074ac6",
   "execution_count": 7
  },
  {
   "cell_type": "code",
   "outputs": [
    {
     "name": "stdout",
     "output_type": "stream",
     "text": [
      "45.5\n"
     ]
    }
   ],
   "source": [
    "print(\"{:.1f}\".format(sum / 6))"
   ],
   "metadata": {
    "collapsed": false,
    "ExecuteTime": {
     "end_time": "2024-04-29T10:18:12.086404Z",
     "start_time": "2024-04-29T10:18:12.084110Z"
    }
   },
   "id": "21ae01c3a2129372",
   "execution_count": 8
  },
  {
   "cell_type": "markdown",
   "source": [
    "# 912"
   ],
   "metadata": {
    "collapsed": false
   },
   "id": "730b52c6ae2ebfee"
  },
  {
   "cell_type": "code",
   "outputs": [],
   "source": [
    "a = ['J', 'U', 'N', 'G', 'O', 'L']"
   ],
   "metadata": {
    "collapsed": false,
    "ExecuteTime": {
     "end_time": "2024-04-29T10:27:21.102234Z",
     "start_time": "2024-04-29T10:27:21.099998Z"
    }
   },
   "id": "844bb2731cac7b87",
   "execution_count": 9
  },
  {
   "cell_type": "code",
   "outputs": [
    {
     "name": "stdout",
     "output_type": "stream",
     "text": [
      "['J', 'U', 'N', 'G', 'O', 'L']\n"
     ]
    }
   ],
   "source": [
    "print(a)"
   ],
   "metadata": {
    "collapsed": false,
    "ExecuteTime": {
     "end_time": "2024-04-29T10:27:24.795516Z",
     "start_time": "2024-04-29T10:27:24.792330Z"
    }
   },
   "id": "3c8fd5678b54f7e8",
   "execution_count": 10
  },
  {
   "cell_type": "code",
   "outputs": [],
   "source": [
    "b = input()"
   ],
   "metadata": {
    "collapsed": false,
    "ExecuteTime": {
     "end_time": "2024-04-29T10:33:42.697360Z",
     "start_time": "2024-04-29T10:33:39.047942Z"
    }
   },
   "id": "e32802e5fadcaa92",
   "execution_count": 18
  },
  {
   "cell_type": "code",
   "outputs": [],
   "source": [
    "flag = False"
   ],
   "metadata": {
    "collapsed": false,
    "ExecuteTime": {
     "end_time": "2024-04-29T10:33:44.198313Z",
     "start_time": "2024-04-29T10:33:44.195110Z"
    }
   },
   "id": "bb5be35704936954",
   "execution_count": 19
  },
  {
   "cell_type": "code",
   "outputs": [],
   "source": [
    "index = 0"
   ],
   "metadata": {
    "collapsed": false,
    "ExecuteTime": {
     "end_time": "2024-04-29T10:33:45.011256Z",
     "start_time": "2024-04-29T10:33:45.008165Z"
    }
   },
   "id": "6f5d32056d12b958",
   "execution_count": 20
  },
  {
   "cell_type": "code",
   "outputs": [],
   "source": [
    "for i in a:\n",
    "    if i == b:\n",
    "        print(index)\n",
    "        flag = True\n",
    "        \n",
    "    index = index + 1"
   ],
   "metadata": {
    "collapsed": false,
    "ExecuteTime": {
     "end_time": "2024-04-29T10:33:45.848835Z",
     "start_time": "2024-04-29T10:33:45.846173Z"
    }
   },
   "id": "82e5185997c98fce",
   "execution_count": 21
  },
  {
   "cell_type": "code",
   "outputs": [
    {
     "name": "stdout",
     "output_type": "stream",
     "text": [
      "none\n"
     ]
    }
   ],
   "source": [
    "if flag == False:\n",
    "    print(\"none\")"
   ],
   "metadata": {
    "collapsed": false,
    "ExecuteTime": {
     "end_time": "2024-04-29T10:34:00.823677Z",
     "start_time": "2024-04-29T10:34:00.820254Z"
    }
   },
   "id": "ed9bf0bf60b45847",
   "execution_count": 22
  },
  {
   "cell_type": "markdown",
   "source": [
    "# 913"
   ],
   "metadata": {
    "collapsed": false
   },
   "id": "87c0ae4f42f56ffa"
  },
  {
   "cell_type": "markdown",
   "source": [
    "자연수 (Natural numbers)\n",
    ": All numbers are positive except for zero.\n",
    "\n",
    "\n",
    "정수 (Integer)\n",
    ": 음수, 0, 양수(=자연수)\n",
    ": Negative numbers, Zero, positive numbers(=Natural numbers)"
   ],
   "metadata": {
    "collapsed": false
   },
   "id": "d997a7dbbdd155dc"
  },
  {
   "cell_type": "code",
   "outputs": [],
   "source": [
    "a = input()"
   ],
   "metadata": {
    "collapsed": false,
    "ExecuteTime": {
     "end_time": "2024-04-29T10:42:33.685101Z",
     "start_time": "2024-04-29T10:42:29.062998Z"
    }
   },
   "id": "cebc3d3525d293ea",
   "execution_count": 23
  },
  {
   "cell_type": "code",
   "outputs": [
    {
     "data": {
      "text/plain": "'45 19 123 58 10 -55 16 -1'"
     },
     "execution_count": 25,
     "metadata": {},
     "output_type": "execute_result"
    }
   ],
   "source": [
    "a"
   ],
   "metadata": {
    "collapsed": false,
    "ExecuteTime": {
     "end_time": "2024-04-29T10:42:39.061807Z",
     "start_time": "2024-04-29T10:42:39.057292Z"
    }
   },
   "id": "b42f36ea8eb9db9e",
   "execution_count": 25
  },
  {
   "cell_type": "code",
   "outputs": [
    {
     "data": {
      "text/plain": "['45', '19', '123', '58', '10', '-55', '16', '-1']"
     },
     "execution_count": 26,
     "metadata": {},
     "output_type": "execute_result"
    }
   ],
   "source": [
    "a.split()"
   ],
   "metadata": {
    "collapsed": false,
    "ExecuteTime": {
     "end_time": "2024-04-29T10:42:53.425260Z",
     "start_time": "2024-04-29T10:42:53.421704Z"
    }
   },
   "id": "5894d3dc0715d470",
   "execution_count": 26
  },
  {
   "cell_type": "code",
   "outputs": [],
   "source": [
    "b = []"
   ],
   "metadata": {
    "collapsed": false,
    "ExecuteTime": {
     "end_time": "2024-04-29T10:43:15.265592Z",
     "start_time": "2024-04-29T10:43:15.263307Z"
    }
   },
   "id": "a23abb2099a572e9",
   "execution_count": 27
  },
  {
   "cell_type": "code",
   "outputs": [],
   "source": [
    "for i in a.split():\n",
    "    b.append(int(i))"
   ],
   "metadata": {
    "collapsed": false,
    "ExecuteTime": {
     "end_time": "2024-04-29T10:44:36.619926Z",
     "start_time": "2024-04-29T10:44:36.617652Z"
    }
   },
   "id": "bd4193172e5bf302",
   "execution_count": 28
  },
  {
   "cell_type": "code",
   "outputs": [
    {
     "data": {
      "text/plain": "[45, 19, 123, 58, 10, -55, 16, -1]"
     },
     "execution_count": 29,
     "metadata": {},
     "output_type": "execute_result"
    }
   ],
   "source": [
    "b"
   ],
   "metadata": {
    "collapsed": false,
    "ExecuteTime": {
     "end_time": "2024-04-29T10:44:39.207494Z",
     "start_time": "2024-04-29T10:44:39.204072Z"
    }
   },
   "id": "8bede12cceaad534",
   "execution_count": 29
  },
  {
   "cell_type": "code",
   "outputs": [],
   "source": [
    "min = b[0]\n",
    "max = b[0]"
   ],
   "metadata": {
    "collapsed": false,
    "ExecuteTime": {
     "end_time": "2024-04-29T10:54:34.841996Z",
     "start_time": "2024-04-29T10:54:34.838867Z"
    }
   },
   "id": "de47fb1992ba746d",
   "execution_count": 31
  },
  {
   "cell_type": "code",
   "outputs": [],
   "source": [
    "for i in b:\n",
    "    if i < min:\n",
    "        min = i\n",
    "        \n",
    "    if i > max:\n",
    "        max = i"
   ],
   "metadata": {
    "collapsed": false,
    "ExecuteTime": {
     "end_time": "2024-04-29T10:54:35.446922Z",
     "start_time": "2024-04-29T10:54:35.444410Z"
    }
   },
   "id": "d166ad26743be8dc",
   "execution_count": 32
  },
  {
   "cell_type": "code",
   "outputs": [
    {
     "data": {
      "text/plain": "-55"
     },
     "execution_count": 33,
     "metadata": {},
     "output_type": "execute_result"
    }
   ],
   "source": [
    "min"
   ],
   "metadata": {
    "collapsed": false,
    "ExecuteTime": {
     "end_time": "2024-04-29T10:54:38.026164Z",
     "start_time": "2024-04-29T10:54:38.023574Z"
    }
   },
   "id": "be244f41e08a9a41",
   "execution_count": 33
  },
  {
   "cell_type": "code",
   "outputs": [
    {
     "data": {
      "text/plain": "123"
     },
     "execution_count": 34,
     "metadata": {},
     "output_type": "execute_result"
    }
   ],
   "source": [
    "max"
   ],
   "metadata": {
    "collapsed": false,
    "ExecuteTime": {
     "end_time": "2024-04-29T10:54:39.563935Z",
     "start_time": "2024-04-29T10:54:39.560622Z"
    }
   },
   "id": "518861d3cc5ed2f4",
   "execution_count": 34
  },
  {
   "cell_type": "code",
   "outputs": [
    {
     "name": "stdout",
     "output_type": "stream",
     "text": [
      "max : 123\n",
      "min : -55\n"
     ]
    }
   ],
   "source": [
    "print(\"max :\", max)\n",
    "print(\"min :\", min)"
   ],
   "metadata": {
    "collapsed": false,
    "ExecuteTime": {
     "end_time": "2024-04-29T10:55:17.320970Z",
     "start_time": "2024-04-29T10:55:17.318199Z"
    }
   },
   "id": "87e012a0938d7d2c",
   "execution_count": 35
  }
 ],
 "metadata": {
  "kernelspec": {
   "display_name": "Python 3",
   "language": "python",
   "name": "python3"
  },
  "language_info": {
   "codemirror_mode": {
    "name": "ipython",
    "version": 2
   },
   "file_extension": ".py",
   "mimetype": "text/x-python",
   "name": "python",
   "nbconvert_exporter": "python",
   "pygments_lexer": "ipython2",
   "version": "2.7.6"
  }
 },
 "nbformat": 4,
 "nbformat_minor": 5
}
