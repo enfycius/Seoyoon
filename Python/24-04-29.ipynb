{
 "cells": [
  {
   "cell_type": "code",
   "execution_count": 1,
   "id": "initial_id",
   "metadata": {
    "collapsed": true,
    "ExecuteTime": {
     "end_time": "2024-04-29T10:13:11.625939Z",
     "start_time": "2024-04-29T10:12:58.261901Z"
    }
   },
   "outputs": [],
   "source": [
    "a = input()"
   ]
  },
  {
   "cell_type": "code",
   "outputs": [
    {
     "data": {
      "text/plain": "'23.2 39.6 66.4 50.0 45.6 48.0'"
     },
     "execution_count": 2,
     "metadata": {},
     "output_type": "execute_result"
    }
   ],
   "source": [
    "a"
   ],
   "metadata": {
    "collapsed": false,
    "ExecuteTime": {
     "end_time": "2024-04-29T10:13:14.332243Z",
     "start_time": "2024-04-29T10:13:14.327Z"
    }
   },
   "id": "856cb9cce6f4dbd3",
   "execution_count": 2
  },
  {
   "cell_type": "code",
   "outputs": [
    {
     "data": {
      "text/plain": "['23.2', '39.6', '66.4', '50.0', '45.6', '48.0']"
     },
     "execution_count": 3,
     "metadata": {},
     "output_type": "execute_result"
    }
   ],
   "source": [
    "a.split()"
   ],
   "metadata": {
    "collapsed": false,
    "ExecuteTime": {
     "end_time": "2024-04-29T10:13:34.539924Z",
     "start_time": "2024-04-29T10:13:34.534757Z"
    }
   },
   "id": "7a47e6c1baca60c",
   "execution_count": 3
  },
  {
   "cell_type": "code",
   "outputs": [],
   "source": [
    "sum = 0"
   ],
   "metadata": {
    "collapsed": false,
    "ExecuteTime": {
     "end_time": "2024-04-29T10:15:45.644790Z",
     "start_time": "2024-04-29T10:15:45.641989Z"
    }
   },
   "id": "46efbac5ada48441",
   "execution_count": 5
  },
  {
   "cell_type": "code",
   "outputs": [],
   "source": [
    "for i in a.split():\n",
    "    sum = sum + float(i)"
   ],
   "metadata": {
    "collapsed": false,
    "ExecuteTime": {
     "end_time": "2024-04-29T10:15:50.205984Z",
     "start_time": "2024-04-29T10:15:50.203136Z"
    }
   },
   "id": "1064a35f40fd0747",
   "execution_count": 6
  },
  {
   "cell_type": "code",
   "outputs": [
    {
     "name": "stdout",
     "output_type": "stream",
     "text": [
      "272.79999999999995\n"
     ]
    }
   ],
   "source": [
    "print(sum)"
   ],
   "metadata": {
    "collapsed": false,
    "ExecuteTime": {
     "end_time": "2024-04-29T10:15:55.192318Z",
     "start_time": "2024-04-29T10:15:55.189756Z"
    }
   },
   "id": "953b815752074ac6",
   "execution_count": 7
  },
  {
   "cell_type": "code",
   "outputs": [
    {
     "name": "stdout",
     "output_type": "stream",
     "text": [
      "45.5\n"
     ]
    }
   ],
   "source": [
    "print(\"{:.1f}\".format(sum / 6))"
   ],
   "metadata": {
    "collapsed": false,
    "ExecuteTime": {
     "end_time": "2024-04-29T10:18:12.086404Z",
     "start_time": "2024-04-29T10:18:12.084110Z"
    }
   },
   "id": "21ae01c3a2129372",
   "execution_count": 8
  },
  {
   "cell_type": "code",
   "outputs": [],
   "source": [],
   "metadata": {
    "collapsed": false
   },
   "id": "e378ff6e9895837"
  }
 ],
 "metadata": {
  "kernelspec": {
   "display_name": "Python 3",
   "language": "python",
   "name": "python3"
  },
  "language_info": {
   "codemirror_mode": {
    "name": "ipython",
    "version": 2
   },
   "file_extension": ".py",
   "mimetype": "text/x-python",
   "name": "python",
   "nbconvert_exporter": "python",
   "pygments_lexer": "ipython2",
   "version": "2.7.6"
  }
 },
 "nbformat": 4,
 "nbformat_minor": 5
}
